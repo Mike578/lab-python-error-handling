{
  "cells": [
    {
      "cell_type": "markdown",
      "id": "25d7736c-ba17-4aff-b6bb-66eba20fbf4e",
      "metadata": {
        "id": "25d7736c-ba17-4aff-b6bb-66eba20fbf4e"
      },
      "source": [
        "# Lab | Error Handling"
      ]
    },
    {
      "cell_type": "markdown",
      "id": "bc99b386-7508-47a0-bcdb-d969deaf6c8b",
      "metadata": {
        "id": "bc99b386-7508-47a0-bcdb-d969deaf6c8b"
      },
      "source": [
        "## Exercise: Error Handling for Managing Customer Orders\n",
        "\n",
        "The implementation of your code for managing customer orders assumes that the user will always enter a valid input.\n",
        "\n",
        "For example, we could modify the `initialize_inventory` function to include error handling.\n",
        "   - If the user enters an invalid quantity (e.g., a negative value or a non-numeric value), display an error message and ask them to re-enter the quantity for that product.\n",
        "   - Use a try-except block to handle the error and continue prompting the user until a valid quantity is entered.\n",
        "\n",
        "```python\n",
        "# Step 1: Define the function for initializing the inventory with error handling\n",
        "def initialize_inventory(products):\n",
        "    inventory = {}\n",
        "    for product in products:\n",
        "        valid_quantity = False\n",
        "        while not valid_quantity:\n",
        "            try:\n",
        "                quantity = int(input(f\"Enter the quantity of {product}s available: \"))\n",
        "                if quantity < 0:\n",
        "                    raise ValueError(\"Invalid quantity! Please enter a non-negative value.\")\n",
        "                valid_quantity = True\n",
        "            except ValueError as error:\n",
        "                print(f\"Error: {error}\")\n",
        "        inventory[product] = quantity\n",
        "    return inventory\n",
        "\n",
        "# Or, in another way:\n",
        "\n",
        "def initialize_inventory(products):\n",
        "    inventory = {}\n",
        "    for product in products:\n",
        "        valid_input = False\n",
        "        while not valid_input:\n",
        "            try:\n",
        "                quantity = int(input(f\"Enter the quantity of {product}s available: \"))\n",
        "                if quantity >= 0:\n",
        "                    inventory[product] = quantity\n",
        "                    valid_input = True\n",
        "                else:\n",
        "                    print(\"Quantity cannot be negative. Please enter a valid quantity.\")\n",
        "            except ValueError:\n",
        "                print(\"Invalid input. Please enter a valid quantity.\")\n",
        "    return inventory\n",
        "```\n",
        "\n",
        "Let's enhance your code by implementing error handling to handle invalid inputs.\n",
        "\n",
        "Follow the steps below to complete the exercise:\n",
        "\n",
        "2. Modify the `calculate_total_price` function to include error handling.\n",
        "   - If the user enters an invalid price (e.g., a negative value or a non-numeric value), display an error message and ask them to re-enter the price for that product.\n",
        "   - Use a try-except block to handle the error and continue prompting the user until a valid price is entered.\n",
        "\n",
        "3. Modify the `get_customer_orders` function to include error handling.\n",
        "   - If the user enters an invalid number of orders (e.g., a negative value or a non-numeric value), display an error message and ask them to re-enter the number of orders.\n",
        "   - If the user enters an invalid product name (e.g., a product name that is not in the inventory), or that doesn't have stock available, display an error message and ask them to re-enter the product name. *Hint: you will need to pass inventory as a parameter*\n",
        "   - Use a try-except block to handle the error and continue prompting the user until a valid product name is entered.\n",
        "\n",
        "4. Test your code by running the program and deliberately entering invalid quantities and product names. Make sure the error handling mechanism works as expected.\n"
      ]
    },
    {
      "cell_type": "code",
      "source": [
        "# Define products\n",
        "products = [\"t-shirt\", \"mug\", \"hat\", \"book\", \"keychain\"]"
      ],
      "metadata": {
        "id": "MSrn0KiEMkzO"
      },
      "id": "MSrn0KiEMkzO",
      "execution_count": 2,
      "outputs": []
    },
    {
      "cell_type": "code",
      "source": [
        "# Step 1: Define the function for initializing the inventory with error handling\n",
        "def initialize_inventory(products):\n",
        "    inventory = {}\n",
        "    for product in products:\n",
        "        valid_quantity = False\n",
        "        while not valid_quantity:\n",
        "            try:\n",
        "                quantity = int(input(f\"Enter the quantity of {product}s available: \"))\n",
        "                if quantity < 0:\n",
        "                    raise ValueError(\"Invalid quantity! Please enter a non-negative value.\")\n",
        "                valid_quantity = True\n",
        "            except ValueError as error:\n",
        "                print(f\"Error: {error}\")\n",
        "        inventory[product] = quantity\n",
        "    return inventory\n",
        "\n",
        "\n",
        "\n",
        "'''\n",
        "# Or, in another way:\n",
        "\n",
        "def initialize_inventory(products):\n",
        "    inventory = {}\n",
        "    for product in products:\n",
        "        valid_input = False\n",
        "        while not valid_input:\n",
        "            try:\n",
        "                quantity = int(input(f\"Enter the quantity of {product}s available: \"))\n",
        "                if quantity >= 0:\n",
        "                    inventory[product] = quantity\n",
        "                    valid_input = True\n",
        "                else:\n",
        "                    print(\"Quantity cannot be negative. Please enter a valid quantity.\")\n",
        "            except ValueError:\n",
        "                print(\"Invalid input. Please enter a valid quantity.\")\n",
        "    return inventory\n",
        " '''"
      ],
      "metadata": {
        "colab": {
          "base_uri": "https://localhost:8080/",
          "height": 88
        },
        "id": "3Ma1QBGNMa54",
        "outputId": "ae79a768-721b-4e62-fc2f-0b8a65a734e8"
      },
      "id": "3Ma1QBGNMa54",
      "execution_count": 3,
      "outputs": [
        {
          "output_type": "execute_result",
          "data": {
            "text/plain": [
              "'\\n# Or, in another way:\\n\\ndef initialize_inventory(products):\\n    inventory = {}\\n    for product in products:\\n        valid_input = False\\n        while not valid_input:\\n            try:\\n                quantity = int(input(f\"Enter the quantity of {product}s available: \"))\\n                if quantity >= 0:\\n                    inventory[product] = quantity\\n                    valid_input = True\\n                else:\\n                    print(\"Quantity cannot be negative. Please enter a valid quantity.\")\\n            except ValueError:\\n                print(\"Invalid input. Please enter a valid quantity.\")\\n    return inventory\\n '"
            ],
            "application/vnd.google.colaboratory.intrinsic+json": {
              "type": "string"
            }
          },
          "metadata": {},
          "execution_count": 3
        }
      ]
    },
    {
      "cell_type": "code",
      "source": [
        "def initialize_inventory(products):\n",
        "    inventory = {product: int(input(f\"Enter the quantity of {product}s available: \")) for product in products}\n",
        "    return inventory\n",
        "\n",
        "\n",
        "\n",
        "\n",
        "\n",
        "def get_customer_orders(inventory):\n",
        "    while True:\n",
        "        try:\n",
        "            num_orders = int(input(\"Enter the number of customer orders: \"))\n",
        "            if num_orders <= 0:\n",
        "                raise ValueError(\"Invalid number of orders. Please enter a positive integer.\")\n",
        "            customer_orders = set()\n",
        "            for _ in range(num_orders):\n",
        "                product_name = input(\"Enter the name of a product that a customer wants to order: \")\n",
        "                if product_name not in inventory or inventory[product_name] <= 0:\n",
        "                    raise ValueError(\"Invalid product name or out of stock. Please enter a valid product name.\")\n",
        "                customer_orders.add(product_name)\n",
        "            return customer_orders\n",
        "        except ValueError as ve:\n",
        "            print(ve)\n",
        "\n",
        "\n",
        "\n",
        "\n",
        "\n",
        "def calculate_total_price(customer_orders):\n",
        "    total_price = 0\n",
        "    for product in customer_orders:\n",
        "        while True:\n",
        "            try:\n",
        "                price = float(input(f\"Enter the price of {product}: \"))\n",
        "                if price <= 0:\n",
        "                    raise ValueError(\"Invalid price. Please enter a positive value.\")\n",
        "                total_price += price\n",
        "                break\n",
        "            except ValueError as ve:\n",
        "                print(ve)\n",
        "    return total_price\n",
        "\n",
        "\n",
        "\n",
        "\n",
        "def update_inventory(customer_orders, inventory):\n",
        "    for product in customer_orders:\n",
        "        inventory[product] -= 1\n",
        "    inventory = {product: quantity for product, quantity in inventory.items() if quantity > 0}\n",
        "    return inventory\n",
        "\n",
        "\n",
        "\n",
        "# 1. Initialize inventory\n",
        "inventory = initialize_inventory(products)\n",
        "\n",
        "# 2. Get customer orders\n",
        "customer_orders = get_customer_orders(inventory)\n",
        "\n",
        "# 3. Calculate total price\n",
        "total_price = calculate_total_price(customer_orders)\n",
        "\n",
        "# 4. Update inventory\n",
        "inventory = update_inventory(customer_orders, inventory)\n",
        "\n",
        "# Print order statistics\n",
        "print(\"Order Statistics:\")\n",
        "print(f\"Total Products Ordered: {len(customer_orders)}\")\n",
        "print(f\"Percentage of Unique Products Ordered: {len(set(customer_orders)) / len(customer_orders) * 100}%\\n\")\n",
        "\n",
        "# Print updated inventory\n",
        "print(\"Updated Inventory:\")\n",
        "for product, quantity in inventory.items():\n",
        "    print(f\"{product}: {quantity}\")\n",
        "\n",
        "# Print total price\n",
        "print(f\"Total Price: {total_price}\")"
      ],
      "metadata": {
        "colab": {
          "base_uri": "https://localhost:8080/"
        },
        "id": "xluhvalPM2tI",
        "outputId": "383cdc45-0a6c-4fc0-9f1b-704208b01606"
      },
      "id": "xluhvalPM2tI",
      "execution_count": 5,
      "outputs": [
        {
          "output_type": "stream",
          "name": "stdout",
          "text": [
            "Enter the quantity of t-shirts available: 5\n",
            "Enter the quantity of mugs available: 10\n",
            "Enter the quantity of hats available: 15\n",
            "Enter the quantity of books available: 20\n",
            "Enter the quantity of keychains available: 25\n",
            "Enter the number of customer orders: 30\n",
            "Enter the name of a product that a customer wants to order: 2\n",
            "Invalid product name or out of stock. Please enter a valid product name.\n",
            "Enter the number of customer orders: mug\n",
            "invalid literal for int() with base 10: 'mug'\n",
            "Enter the number of customer orders: hat\n",
            "invalid literal for int() with base 10: 'hat'\n",
            "Enter the number of customer orders: 2\n",
            "Enter the name of a product that a customer wants to order: hat\n",
            "Enter the name of a product that a customer wants to order: mug\n",
            "Enter the price of mug: 10\n",
            "Enter the price of hat: 12\n",
            "Order Statistics:\n",
            "Total Products Ordered: 2\n",
            "Percentage of Unique Products Ordered: 100.0%\n",
            "\n",
            "Updated Inventory:\n",
            "t-shirt: 5\n",
            "mug: 9\n",
            "hat: 14\n",
            "book: 20\n",
            "keychain: 25\n",
            "Total Price: 22.0\n"
          ]
        }
      ]
    },
    {
      "cell_type": "code",
      "source": [],
      "metadata": {
        "id": "EZAArVjbNBuG"
      },
      "id": "EZAArVjbNBuG",
      "execution_count": null,
      "outputs": []
    }
  ],
  "metadata": {
    "kernelspec": {
      "display_name": "Python 3 (ipykernel)",
      "language": "python",
      "name": "python3"
    },
    "language_info": {
      "codemirror_mode": {
        "name": "ipython",
        "version": 3
      },
      "file_extension": ".py",
      "mimetype": "text/x-python",
      "name": "python",
      "nbconvert_exporter": "python",
      "pygments_lexer": "ipython3",
      "version": "3.9.13"
    },
    "colab": {
      "provenance": []
    }
  },
  "nbformat": 4,
  "nbformat_minor": 5
}